{
  "cells": [
    {
      "cell_type": "markdown",
      "metadata": {
        "id": "IbcCAqpXV9yU"
      },
      "source": [
        "# Training Bidirectional LSTM With Attention"
      ]
    },
    {
      "cell_type": "code",
      "execution_count": null,
      "metadata": {
        "id": "hPCZsdCPUt7N"
      },
      "outputs": [],
      "source": [
        "import pandas as pd\n",
        "import numpy as np\n",
        "import string\n",
        "\n",
        "import matplotlib.pyplot as plt\n",
        "%matplotlib inline\n",
        "\n",
        "import tensorflow as tf\n",
        "\n",
        "from sklearn.model_selection import train_test_split\n",
        "import re\n",
        "import os"
      ]
    },
    {
      "cell_type": "markdown",
      "metadata": {
        "id": "m-IvkW5VWJZK"
      },
      "source": [
        "#### Import cleaned data"
      ]
    },
    {
      "cell_type": "code",
      "execution_count": null,
      "metadata": {
        "colab": {
          "base_uri": "https://localhost:8080/"
        },
        "id": "Jy-u0UVD_OvB",
        "outputId": "84eeec63-59e6-44ce-b886-36e014daf91d"
      },
      "outputs": [
        {
          "output_type": "stream",
          "name": "stdout",
          "text": [
            "--2022-01-21 17:05:29--  https://raw.githubusercontent.com/AdiShirsath/Neural-Machine-Translation/master/Data/cleaned.csv\n",
            "Resolving raw.githubusercontent.com (raw.githubusercontent.com)... 185.199.108.133, 185.199.109.133, 185.199.111.133, ...\n",
            "Connecting to raw.githubusercontent.com (raw.githubusercontent.com)|185.199.108.133|:443... connected.\n",
            "HTTP request sent, awaiting response... 200 OK\n",
            "Length: 3959978 (3.8M) [text/plain]\n",
            "Saving to: ‘cleaned.csv’\n",
            "\n",
            "cleaned.csv         100%[===================>]   3.78M  --.-KB/s    in 0.08s   \n",
            "\n",
            "2022-01-21 17:05:29 (46.1 MB/s) - ‘cleaned.csv’ saved [3959978/3959978]\n",
            "\n"
          ]
        }
      ],
      "source": [
        "!wget https://raw.githubusercontent.com/AdiShirsath/Neural-Machine-Translation/master/Data/cleaned.csv"
      ]
    },
    {
      "cell_type": "code",
      "execution_count": null,
      "metadata": {
        "colab": {
          "base_uri": "https://localhost:8080/"
        },
        "id": "0l6i9lM8f0C8",
        "outputId": "07c88c2e-c784-4e4c-e771-0b41f64c37c1"
      },
      "outputs": [
        {
          "output_type": "stream",
          "name": "stdout",
          "text": [
            "--2022-01-21 17:05:30--  https://raw.githubusercontent.com/TejasGadi/Transliteration_model/main/transliteration_cleaned.csv\n",
            "Resolving raw.githubusercontent.com (raw.githubusercontent.com)... 185.199.109.133, 185.199.108.133, 185.199.111.133, ...\n",
            "Connecting to raw.githubusercontent.com (raw.githubusercontent.com)|185.199.109.133|:443... connected.\n",
            "HTTP request sent, awaiting response... 200 OK\n",
            "Length: 2660202 (2.5M) [text/plain]\n",
            "Saving to: ‘transliteration_cleaned.csv’\n",
            "\n",
            "transliteration_cle 100%[===================>]   2.54M  --.-KB/s    in 0.08s   \n",
            "\n",
            "2022-01-21 17:05:30 (32.6 MB/s) - ‘transliteration_cleaned.csv’ saved [2660202/2660202]\n",
            "\n"
          ]
        }
      ],
      "source": [
        "!wget https://raw.githubusercontent.com/TejasGadi/Transliteration_model/main/transliteration_cleaned.csv"
      ]
    },
    {
      "cell_type": "code",
      "execution_count": null,
      "metadata": {
        "id": "XMd1NnfjVDPX"
      },
      "outputs": [],
      "source": [
        "df = pd.read_csv(\"/content/transliteration_cleaned.csv\")"
      ]
    },
    {
      "cell_type": "code",
      "execution_count": null,
      "metadata": {
        "colab": {
          "base_uri": "https://localhost:8080/",
          "height": 206
        },
        "id": "_VJAduWVVWUa",
        "outputId": "f899fafa-2e12-42e4-b332-f578f7757865"
      },
      "outputs": [
        {
          "output_type": "execute_result",
          "data": {
            "text/html": [
              "\n",
              "  <div id=\"df-8d8109f7-9463-4c2c-8a05-14a2eeed4e06\">\n",
              "    <div class=\"colab-df-container\">\n",
              "      <div>\n",
              "<style scoped>\n",
              "    .dataframe tbody tr th:only-of-type {\n",
              "        vertical-align: middle;\n",
              "    }\n",
              "\n",
              "    .dataframe tbody tr th {\n",
              "        vertical-align: top;\n",
              "    }\n",
              "\n",
              "    .dataframe thead th {\n",
              "        text-align: right;\n",
              "    }\n",
              "</style>\n",
              "<table border=\"1\" class=\"dataframe\">\n",
              "  <thead>\n",
              "    <tr style=\"text-align: right;\">\n",
              "      <th></th>\n",
              "      <th>Unnamed: 0</th>\n",
              "      <th>English</th>\n",
              "      <th>Marathi</th>\n",
              "    </tr>\n",
              "  </thead>\n",
              "  <tbody>\n",
              "    <tr>\n",
              "      <th>9934</th>\n",
              "      <td>9994</td>\n",
              "      <td>paramparik drushy varnapatatil durbinine aajas...</td>\n",
              "      <td>पारंपरिक दृश्य वर्णपटातील दुर्बिणीने आकाशात पा...</td>\n",
              "    </tr>\n",
              "    <tr>\n",
              "      <th>9935</th>\n",
              "      <td>9995</td>\n",
              "      <td>ketkar he swataha bhagawdgeeteche abhyasak aan...</td>\n",
              "      <td>केतकर हे स्वतः भगवद्‌गीतेचे अभ्यासक आणि उपासक ...</td>\n",
              "    </tr>\n",
              "    <tr>\n",
              "      <th>9936</th>\n",
              "      <td>9996</td>\n",
              "      <td>antarctica ha jagatalya konatyahi any walavant...</td>\n",
              "      <td>अंटार्क्टिका हा जगातल्या कोणत्याही अन्य वाळवंट...</td>\n",
              "    </tr>\n",
              "    <tr>\n",
              "      <th>9937</th>\n",
              "      <td>9997</td>\n",
              "      <td>baudh ha zilha bharatachya odisha rajyatil ek ...</td>\n",
              "      <td>बौध जिल्हा हा भारताच्या ओडिशा राज्यातील एक जिल...</td>\n",
              "    </tr>\n",
              "    <tr>\n",
              "      <th>9938</th>\n",
              "      <td>9998</td>\n",
              "      <td>pawasamule samana ushira suru zala</td>\n",
              "      <td>पावसामुळले सामना उशीरा सुरू झाला.</td>\n",
              "    </tr>\n",
              "  </tbody>\n",
              "</table>\n",
              "</div>\n",
              "      <button class=\"colab-df-convert\" onclick=\"convertToInteractive('df-8d8109f7-9463-4c2c-8a05-14a2eeed4e06')\"\n",
              "              title=\"Convert this dataframe to an interactive table.\"\n",
              "              style=\"display:none;\">\n",
              "        \n",
              "  <svg xmlns=\"http://www.w3.org/2000/svg\" height=\"24px\"viewBox=\"0 0 24 24\"\n",
              "       width=\"24px\">\n",
              "    <path d=\"M0 0h24v24H0V0z\" fill=\"none\"/>\n",
              "    <path d=\"M18.56 5.44l.94 2.06.94-2.06 2.06-.94-2.06-.94-.94-2.06-.94 2.06-2.06.94zm-11 1L8.5 8.5l.94-2.06 2.06-.94-2.06-.94L8.5 2.5l-.94 2.06-2.06.94zm10 10l.94 2.06.94-2.06 2.06-.94-2.06-.94-.94-2.06-.94 2.06-2.06.94z\"/><path d=\"M17.41 7.96l-1.37-1.37c-.4-.4-.92-.59-1.43-.59-.52 0-1.04.2-1.43.59L10.3 9.45l-7.72 7.72c-.78.78-.78 2.05 0 2.83L4 21.41c.39.39.9.59 1.41.59.51 0 1.02-.2 1.41-.59l7.78-7.78 2.81-2.81c.8-.78.8-2.07 0-2.86zM5.41 20L4 18.59l7.72-7.72 1.47 1.35L5.41 20z\"/>\n",
              "  </svg>\n",
              "      </button>\n",
              "      \n",
              "  <style>\n",
              "    .colab-df-container {\n",
              "      display:flex;\n",
              "      flex-wrap:wrap;\n",
              "      gap: 12px;\n",
              "    }\n",
              "\n",
              "    .colab-df-convert {\n",
              "      background-color: #E8F0FE;\n",
              "      border: none;\n",
              "      border-radius: 50%;\n",
              "      cursor: pointer;\n",
              "      display: none;\n",
              "      fill: #1967D2;\n",
              "      height: 32px;\n",
              "      padding: 0 0 0 0;\n",
              "      width: 32px;\n",
              "    }\n",
              "\n",
              "    .colab-df-convert:hover {\n",
              "      background-color: #E2EBFA;\n",
              "      box-shadow: 0px 1px 2px rgba(60, 64, 67, 0.3), 0px 1px 3px 1px rgba(60, 64, 67, 0.15);\n",
              "      fill: #174EA6;\n",
              "    }\n",
              "\n",
              "    [theme=dark] .colab-df-convert {\n",
              "      background-color: #3B4455;\n",
              "      fill: #D2E3FC;\n",
              "    }\n",
              "\n",
              "    [theme=dark] .colab-df-convert:hover {\n",
              "      background-color: #434B5C;\n",
              "      box-shadow: 0px 1px 3px 1px rgba(0, 0, 0, 0.15);\n",
              "      filter: drop-shadow(0px 1px 2px rgba(0, 0, 0, 0.3));\n",
              "      fill: #FFFFFF;\n",
              "    }\n",
              "  </style>\n",
              "\n",
              "      <script>\n",
              "        const buttonEl =\n",
              "          document.querySelector('#df-8d8109f7-9463-4c2c-8a05-14a2eeed4e06 button.colab-df-convert');\n",
              "        buttonEl.style.display =\n",
              "          google.colab.kernel.accessAllowed ? 'block' : 'none';\n",
              "\n",
              "        async function convertToInteractive(key) {\n",
              "          const element = document.querySelector('#df-8d8109f7-9463-4c2c-8a05-14a2eeed4e06');\n",
              "          const dataTable =\n",
              "            await google.colab.kernel.invokeFunction('convertToInteractive',\n",
              "                                                     [key], {});\n",
              "          if (!dataTable) return;\n",
              "\n",
              "          const docLinkHtml = 'Like what you see? Visit the ' +\n",
              "            '<a target=\"_blank\" href=https://colab.research.google.com/notebooks/data_table.ipynb>data table notebook</a>'\n",
              "            + ' to learn more about interactive tables.';\n",
              "          element.innerHTML = '';\n",
              "          dataTable['output_type'] = 'display_data';\n",
              "          await google.colab.output.renderOutput(dataTable, element);\n",
              "          const docLink = document.createElement('div');\n",
              "          docLink.innerHTML = docLinkHtml;\n",
              "          element.appendChild(docLink);\n",
              "        }\n",
              "      </script>\n",
              "    </div>\n",
              "  </div>\n",
              "  "
            ],
            "text/plain": [
              "      Unnamed: 0  ...                                            Marathi\n",
              "9934        9994  ...  पारंपरिक दृश्य वर्णपटातील दुर्बिणीने आकाशात पा...\n",
              "9935        9995  ...  केतकर हे स्वतः भगवद्‌गीतेचे अभ्यासक आणि उपासक ...\n",
              "9936        9996  ...  अंटार्क्टिका हा जगातल्या कोणत्याही अन्य वाळवंट...\n",
              "9937        9997  ...  बौध जिल्हा हा भारताच्या ओडिशा राज्यातील एक जिल...\n",
              "9938        9998  ...                  पावसामुळले सामना उशीरा सुरू झाला.\n",
              "\n",
              "[5 rows x 3 columns]"
            ]
          },
          "metadata": {},
          "execution_count": 5
        }
      ],
      "source": [
        "df.tail()"
      ]
    },
    {
      "cell_type": "markdown",
      "metadata": {
        "id": "18Xi--85VcLC"
      },
      "source": [
        "**Note-** this dataset was cleaned in notebook1 [here](https://github.com/AdiShirsath/Neural-Machine-Translation/blob/master/EDA_And_Cleaning_Text.ipynb)"
      ]
    },
    {
      "cell_type": "code",
      "execution_count": null,
      "metadata": {
        "colab": {
          "base_uri": "https://localhost:8080/"
        },
        "id": "4WPRrY4kVX3P",
        "outputId": "a92685c3-9e8f-4db7-f892-b33d29508ee2"
      },
      "outputs": [
        {
          "output_type": "stream",
          "name": "stdout",
          "text": [
            "<class 'pandas.core.frame.DataFrame'>\n",
            "RangeIndex: 9939 entries, 0 to 9938\n",
            "Data columns (total 3 columns):\n",
            " #   Column      Non-Null Count  Dtype \n",
            "---  ------      --------------  ----- \n",
            " 0   Unnamed: 0  9939 non-null   int64 \n",
            " 1   English     9939 non-null   object\n",
            " 2   Marathi     9939 non-null   object\n",
            "dtypes: int64(1), object(2)\n",
            "memory usage: 233.1+ KB\n"
          ]
        }
      ],
      "source": [
        "df.info()"
      ]
    },
    {
      "cell_type": "markdown",
      "metadata": {
        "id": "e2CeT9kZVYwR"
      },
      "source": [
        "### Add start and end tokens to target sentecnes\n",
        "* This helps model understand when sentence is started and ended\n",
        "* Beause of this decoder can handle diff length sentence than encoder"
      ]
    },
    {
      "cell_type": "code",
      "execution_count": null,
      "metadata": {
        "id": "-ODudQ-HYRmw"
      },
      "outputs": [],
      "source": [
        "df['Marathi'] =df.Marathi.apply(lambda x: 'sos '+ x + ' eos')"
      ]
    },
    {
      "cell_type": "code",
      "execution_count": null,
      "metadata": {
        "colab": {
          "base_uri": "https://localhost:8080/",
          "height": 206
        },
        "id": "fb8W9w_raLaX",
        "outputId": "c929dcf0-9fef-4743-8ed4-3451648e3aa3"
      },
      "outputs": [
        {
          "output_type": "execute_result",
          "data": {
            "text/html": [
              "\n",
              "  <div id=\"df-b93da951-1761-4ff5-9b2f-0bcda7eda211\">\n",
              "    <div class=\"colab-df-container\">\n",
              "      <div>\n",
              "<style scoped>\n",
              "    .dataframe tbody tr th:only-of-type {\n",
              "        vertical-align: middle;\n",
              "    }\n",
              "\n",
              "    .dataframe tbody tr th {\n",
              "        vertical-align: top;\n",
              "    }\n",
              "\n",
              "    .dataframe thead th {\n",
              "        text-align: right;\n",
              "    }\n",
              "</style>\n",
              "<table border=\"1\" class=\"dataframe\">\n",
              "  <thead>\n",
              "    <tr style=\"text-align: right;\">\n",
              "      <th></th>\n",
              "      <th>Unnamed: 0</th>\n",
              "      <th>English</th>\n",
              "      <th>Marathi</th>\n",
              "    </tr>\n",
              "  </thead>\n",
              "  <tbody>\n",
              "    <tr>\n",
              "      <th>0</th>\n",
              "      <td>0</td>\n",
              "      <td>abhyasakanna marathicha pahila shilalekh sapad...</td>\n",
              "      <td>sos अभ्यासकांना मराठीचा पहिला शिलालेख सापडला त...</td>\n",
              "    </tr>\n",
              "    <tr>\n",
              "      <th>1</th>\n",
              "      <td>1</td>\n",
              "      <td>tya sanstheche te vyavasthapakiya sanchalak hote.</td>\n",
              "      <td>sos त्या संस्थेचे ते व्यवस्थापकीय संचालक होते....</td>\n",
              "    </tr>\n",
              "    <tr>\n",
              "      <th>2</th>\n",
              "      <td>2</td>\n",
              "      <td>dhobi kivva parit ha baara balutedaranpaiki ek...</td>\n",
              "      <td>sos धोबी किंवा परीट हा बारा बलुतेदारांपैकी एक ...</td>\n",
              "    </tr>\n",
              "    <tr>\n",
              "      <th>3</th>\n",
              "      <td>3</td>\n",
              "      <td>shivarayanchi gupt khalbate yethech chalat.</td>\n",
              "      <td>sos शिवरायांची गुप्त खलबते येथेच चालत. eos</td>\n",
              "    </tr>\n",
              "    <tr>\n",
              "      <th>4</th>\n",
              "      <td>4</td>\n",
              "      <td>netaji palkar yanchi samadhi taamsa (taluka. h...</td>\n",
              "      <td>sos नेताजी पालकर यांची समाधी तामसा (तालुका .हद...</td>\n",
              "    </tr>\n",
              "  </tbody>\n",
              "</table>\n",
              "</div>\n",
              "      <button class=\"colab-df-convert\" onclick=\"convertToInteractive('df-b93da951-1761-4ff5-9b2f-0bcda7eda211')\"\n",
              "              title=\"Convert this dataframe to an interactive table.\"\n",
              "              style=\"display:none;\">\n",
              "        \n",
              "  <svg xmlns=\"http://www.w3.org/2000/svg\" height=\"24px\"viewBox=\"0 0 24 24\"\n",
              "       width=\"24px\">\n",
              "    <path d=\"M0 0h24v24H0V0z\" fill=\"none\"/>\n",
              "    <path d=\"M18.56 5.44l.94 2.06.94-2.06 2.06-.94-2.06-.94-.94-2.06-.94 2.06-2.06.94zm-11 1L8.5 8.5l.94-2.06 2.06-.94-2.06-.94L8.5 2.5l-.94 2.06-2.06.94zm10 10l.94 2.06.94-2.06 2.06-.94-2.06-.94-.94-2.06-.94 2.06-2.06.94z\"/><path d=\"M17.41 7.96l-1.37-1.37c-.4-.4-.92-.59-1.43-.59-.52 0-1.04.2-1.43.59L10.3 9.45l-7.72 7.72c-.78.78-.78 2.05 0 2.83L4 21.41c.39.39.9.59 1.41.59.51 0 1.02-.2 1.41-.59l7.78-7.78 2.81-2.81c.8-.78.8-2.07 0-2.86zM5.41 20L4 18.59l7.72-7.72 1.47 1.35L5.41 20z\"/>\n",
              "  </svg>\n",
              "      </button>\n",
              "      \n",
              "  <style>\n",
              "    .colab-df-container {\n",
              "      display:flex;\n",
              "      flex-wrap:wrap;\n",
              "      gap: 12px;\n",
              "    }\n",
              "\n",
              "    .colab-df-convert {\n",
              "      background-color: #E8F0FE;\n",
              "      border: none;\n",
              "      border-radius: 50%;\n",
              "      cursor: pointer;\n",
              "      display: none;\n",
              "      fill: #1967D2;\n",
              "      height: 32px;\n",
              "      padding: 0 0 0 0;\n",
              "      width: 32px;\n",
              "    }\n",
              "\n",
              "    .colab-df-convert:hover {\n",
              "      background-color: #E2EBFA;\n",
              "      box-shadow: 0px 1px 2px rgba(60, 64, 67, 0.3), 0px 1px 3px 1px rgba(60, 64, 67, 0.15);\n",
              "      fill: #174EA6;\n",
              "    }\n",
              "\n",
              "    [theme=dark] .colab-df-convert {\n",
              "      background-color: #3B4455;\n",
              "      fill: #D2E3FC;\n",
              "    }\n",
              "\n",
              "    [theme=dark] .colab-df-convert:hover {\n",
              "      background-color: #434B5C;\n",
              "      box-shadow: 0px 1px 3px 1px rgba(0, 0, 0, 0.15);\n",
              "      filter: drop-shadow(0px 1px 2px rgba(0, 0, 0, 0.3));\n",
              "      fill: #FFFFFF;\n",
              "    }\n",
              "  </style>\n",
              "\n",
              "      <script>\n",
              "        const buttonEl =\n",
              "          document.querySelector('#df-b93da951-1761-4ff5-9b2f-0bcda7eda211 button.colab-df-convert');\n",
              "        buttonEl.style.display =\n",
              "          google.colab.kernel.accessAllowed ? 'block' : 'none';\n",
              "\n",
              "        async function convertToInteractive(key) {\n",
              "          const element = document.querySelector('#df-b93da951-1761-4ff5-9b2f-0bcda7eda211');\n",
              "          const dataTable =\n",
              "            await google.colab.kernel.invokeFunction('convertToInteractive',\n",
              "                                                     [key], {});\n",
              "          if (!dataTable) return;\n",
              "\n",
              "          const docLinkHtml = 'Like what you see? Visit the ' +\n",
              "            '<a target=\"_blank\" href=https://colab.research.google.com/notebooks/data_table.ipynb>data table notebook</a>'\n",
              "            + ' to learn more about interactive tables.';\n",
              "          element.innerHTML = '';\n",
              "          dataTable['output_type'] = 'display_data';\n",
              "          await google.colab.output.renderOutput(dataTable, element);\n",
              "          const docLink = document.createElement('div');\n",
              "          docLink.innerHTML = docLinkHtml;\n",
              "          element.appendChild(docLink);\n",
              "        }\n",
              "      </script>\n",
              "    </div>\n",
              "  </div>\n",
              "  "
            ],
            "text/plain": [
              "   Unnamed: 0  ...                                            Marathi\n",
              "0           0  ...  sos अभ्यासकांना मराठीचा पहिला शिलालेख सापडला त...\n",
              "1           1  ...  sos त्या संस्थेचे ते व्यवस्थापकीय संचालक होते....\n",
              "2           2  ...  sos धोबी किंवा परीट हा बारा बलुतेदारांपैकी एक ...\n",
              "3           3  ...         sos शिवरायांची गुप्त खलबते येथेच चालत. eos\n",
              "4           4  ...  sos नेताजी पालकर यांची समाधी तामसा (तालुका .हद...\n",
              "\n",
              "[5 rows x 3 columns]"
            ]
          },
          "metadata": {},
          "execution_count": 8
        }
      ],
      "source": [
        "df.head()"
      ]
    },
    {
      "cell_type": "markdown",
      "metadata": {
        "id": "hdWz3i4mWhw7"
      },
      "source": [
        "##### Convert to list for tokenizer"
      ]
    },
    {
      "cell_type": "code",
      "execution_count": null,
      "metadata": {
        "id": "e7uCHZ7iaM0W"
      },
      "outputs": [],
      "source": [
        "eng_texts = df.English.to_list()\n",
        "mar_texts = df.Marathi.to_list()"
      ]
    },
    {
      "cell_type": "markdown",
      "metadata": {
        "id": "8aNL83ChadVb"
      },
      "source": [
        "## Tokenizer\n",
        "* Converting into numbers"
      ]
    },
    {
      "cell_type": "code",
      "execution_count": null,
      "metadata": {
        "id": "M9fg2-rjagoQ"
      },
      "outputs": [],
      "source": [
        "from tensorflow.keras.preprocessing.text import Tokenizer"
      ]
    },
    {
      "cell_type": "code",
      "execution_count": null,
      "metadata": {
        "id": "pkQgPLI3ao0V"
      },
      "outputs": [],
      "source": [
        "def tokenize_sent(text):\n",
        "  '''\n",
        "  Take list on texts as input and \n",
        "  returns its tokenizer and enocded text\n",
        "  '''\n",
        "  tokenizer = Tokenizer()\n",
        "  tokenizer.fit_on_texts(text)\n",
        "\n",
        "  return tokenizer, tokenizer.texts_to_sequences(text)\n",
        "\n"
      ]
    },
    {
      "cell_type": "code",
      "execution_count": null,
      "metadata": {
        "id": "tsLqMC61bKqV"
      },
      "outputs": [],
      "source": [
        "# Tokenize english and marathi sentences\n",
        "eng_tokenizer, eng_encoded= tokenize_sent(text= eng_texts)\n",
        "mar_tokenizer, mar_encoded= tokenize_sent(text= mar_texts)"
      ]
    },
    {
      "cell_type": "markdown",
      "metadata": {
        "id": "5MTy8BNgbjkn"
      },
      "source": [
        "#### English"
      ]
    },
    {
      "cell_type": "code",
      "execution_count": null,
      "metadata": {
        "colab": {
          "base_uri": "https://localhost:8080/"
        },
        "id": "6e0kxonHbqcb",
        "outputId": "3b9876a2-eb51-4cde-ed31-2b9269c80cb1"
      },
      "outputs": [
        {
          "output_type": "execute_result",
          "data": {
            "text/plain": [
              "[[10015, 113, 10016, 10017, 958, 497, 6, 10018, 5653, 1],\n",
              " [4, 3938, 560, 137, 5, 278, 106, 10019, 5654, 1979, 682, 5655],\n",
              " [3935, 5, 1463, 63, 10020, 1056, 498, 153, 10021, 127, 959, 10022, 88, 65],\n",
              " [214, 3939, 182, 39, 1451, 683, 3940],\n",
              " [4, 51, 3020, 1057, 729, 92, 1]]"
            ]
          },
          "metadata": {},
          "execution_count": 13
        }
      ],
      "source": [
        "eng_encoded[100:105]"
      ]
    },
    {
      "cell_type": "code",
      "execution_count": null,
      "metadata": {
        "id": "SgcQY325bsr2"
      },
      "outputs": [],
      "source": [
        "eng_index_word = eng_tokenizer.index_word\n",
        "eng_word_indec= eng_tokenizer.word_index\n"
      ]
    },
    {
      "cell_type": "markdown",
      "metadata": {
        "id": "vykyXwUQW4Vc"
      },
      "source": [
        "### Get vocab size which will be needed next"
      ]
    },
    {
      "cell_type": "code",
      "execution_count": null,
      "metadata": {
        "colab": {
          "base_uri": "https://localhost:8080/"
        },
        "id": "4DTU8OCub8M_",
        "outputId": "cc25e02c-2437-43eb-a50e-2f0a7d277794"
      },
      "outputs": [
        {
          "output_type": "execute_result",
          "data": {
            "text/plain": [
              "34464"
            ]
          },
          "metadata": {},
          "execution_count": 15
        }
      ],
      "source": [
        "ENG_VOCAB_SIZE = len(eng_tokenizer.word_counts)+1\n",
        "ENG_VOCAB_SIZE"
      ]
    },
    {
      "cell_type": "markdown",
      "metadata": {
        "id": "1domCO8ocIhW"
      },
      "source": [
        "#### Mrathi"
      ]
    },
    {
      "cell_type": "code",
      "execution_count": null,
      "metadata": {
        "colab": {
          "base_uri": "https://localhost:8080/"
        },
        "id": "PdPsaSYHcLJf",
        "outputId": "bd55d5d1-8dad-4932-edf6-460988c07cd1"
      },
      "outputs": [
        {
          "output_type": "execute_result",
          "data": {
            "text/plain": [
              "[]"
            ]
          },
          "metadata": {},
          "execution_count": 16
        }
      ],
      "source": [
        "mar_encoded[30000:30005]"
      ]
    },
    {
      "cell_type": "code",
      "execution_count": null,
      "metadata": {
        "id": "TwdkNIUOcND7"
      },
      "outputs": [],
      "source": [
        "mar_index_word = mar_tokenizer.index_word\n",
        "mar_word_index= mar_tokenizer.word_index\n"
      ]
    },
    {
      "cell_type": "code",
      "execution_count": null,
      "metadata": {
        "colab": {
          "base_uri": "https://localhost:8080/"
        },
        "id": "zhQ2qcJ1cWLU",
        "outputId": "39c38ed7-8a98-472d-8c89-88271a628953"
      },
      "outputs": [
        {
          "output_type": "execute_result",
          "data": {
            "text/plain": [
              "31071"
            ]
          },
          "metadata": {},
          "execution_count": 18
        }
      ],
      "source": [
        "MAR_VOCAB_SIZE=len(mar_tokenizer.word_counts)+1\n",
        "MAR_VOCAB_SIZE"
      ]
    },
    {
      "cell_type": "code",
      "execution_count": null,
      "metadata": {
        "id": "faqGRJuYdHHX"
      },
      "outputs": [],
      "source": [
        "max_eng_len = 0\n",
        "for i in range(len(eng_encoded)):\n",
        "  if len(eng_encoded[i]) > max_eng_len:\n",
        "    max_eng_len= len(eng_encoded[i])\n",
        "\n",
        "max_mar_len = 0\n",
        "for i in range(len(mar_encoded)):\n",
        "  if len(eng_encoded[i]) > max_mar_len:\n",
        "    max_mar_len= len(mar_encoded[i])\n"
      ]
    },
    {
      "cell_type": "code",
      "execution_count": null,
      "metadata": {
        "colab": {
          "base_uri": "https://localhost:8080/"
        },
        "id": "ua8cyluif43t",
        "outputId": "bf9c5650-8e48-4aef-82b2-ff2b91ea6b0a"
      },
      "outputs": [
        {
          "output_type": "stream",
          "name": "stdout",
          "text": [
            "118\n"
          ]
        },
        {
          "output_type": "execute_result",
          "data": {
            "text/plain": [
              "119"
            ]
          },
          "metadata": {},
          "execution_count": 20
        }
      ],
      "source": [
        "print(max_eng_len)\n",
        "max_mar_len"
      ]
    },
    {
      "cell_type": "markdown",
      "metadata": {
        "id": "7Krx89Ey-hyZ"
      },
      "source": [
        "## Padding\n",
        "* Making input sentences as max length of input sentence with padding zero\n",
        "* Same for target make them as max length of target sentence."
      ]
    },
    {
      "cell_type": "code",
      "execution_count": null,
      "metadata": {
        "id": "Tq0nJk0VcwNV"
      },
      "outputs": [],
      "source": [
        "from tensorflow.keras.preprocessing.sequence import pad_sequences"
      ]
    },
    {
      "cell_type": "code",
      "execution_count": null,
      "metadata": {
        "id": "hxM5e1Xhc4oq"
      },
      "outputs": [],
      "source": [
        "eng_padded = pad_sequences(eng_encoded, maxlen=max_eng_len, padding='post')\n",
        "mar_padded = pad_sequences(mar_encoded, maxlen=max_mar_len, padding='post')\n"
      ]
    },
    {
      "cell_type": "code",
      "execution_count": null,
      "metadata": {
        "colab": {
          "base_uri": "https://localhost:8080/"
        },
        "id": "cpWVO9ZUgQlK",
        "outputId": "3acf1821-3e6a-437d-9efa-5b72593cdcd8"
      },
      "outputs": [
        {
          "output_type": "execute_result",
          "data": {
            "text/plain": [
              "array([[ 9775,  5552,   172, ...,     0,     0,     0],\n",
              "       [   20,  1281,    11, ...,     0,     0,     0],\n",
              "       [ 3883,   113,  2369, ...,     0,     0,     0],\n",
              "       ...,\n",
              "       [ 1144,     8,  9292, ...,     0,     0,     0],\n",
              "       [34461,     8,  1954, ...,     0,     0,     0],\n",
              "       [34462,  1673, 34463, ...,     0,     0,     0]], dtype=int32)"
            ]
          },
          "metadata": {},
          "execution_count": 23
        }
      ],
      "source": [
        "eng_padded"
      ]
    },
    {
      "cell_type": "code",
      "execution_count": null,
      "metadata": {
        "colab": {
          "base_uri": "https://localhost:8080/"
        },
        "id": "m_eCExefgTIu",
        "outputId": "fe5bb75c-c706-4651-a0aa-d7a7f9eaa466"
      },
      "outputs": [
        {
          "output_type": "execute_result",
          "data": {
            "text/plain": [
              "(9939, 119)"
            ]
          },
          "metadata": {},
          "execution_count": 24
        }
      ],
      "source": [
        "mar_padded.shape"
      ]
    },
    {
      "cell_type": "markdown",
      "metadata": {
        "id": "DI-KozaO-hyb"
      },
      "source": [
        "##### Converting to array"
      ]
    },
    {
      "cell_type": "code",
      "execution_count": null,
      "metadata": {
        "id": "v4a5Wg33ir55"
      },
      "outputs": [],
      "source": [
        "eng_padded= np.array(eng_padded)\n",
        "mar_padded= np.array(mar_padded)"
      ]
    },
    {
      "cell_type": "markdown",
      "metadata": {
        "id": "WY-cYJXTgVLu"
      },
      "source": [
        "## Train test split"
      ]
    },
    {
      "cell_type": "code",
      "execution_count": null,
      "metadata": {
        "id": "PFDErgK3gogI"
      },
      "outputs": [],
      "source": [
        "from sklearn.model_selection import train_test_split"
      ]
    },
    {
      "cell_type": "code",
      "execution_count": null,
      "metadata": {
        "id": "3Epi5UGEgr4i"
      },
      "outputs": [],
      "source": [
        "X_train, X_test, y_train, y_test = train_test_split(eng_padded, mar_padded, test_size=0.1, random_state=0)"
      ]
    },
    {
      "cell_type": "code",
      "execution_count": null,
      "metadata": {
        "colab": {
          "base_uri": "https://localhost:8080/"
        },
        "id": "KnElMyebhESu",
        "outputId": "467c7b08-ae81-4019-d855-5e8c50c33032"
      },
      "outputs": [
        {
          "output_type": "execute_result",
          "data": {
            "text/plain": [
              "((8945, 118), (994, 118), (8945, 119), (994, 119))"
            ]
          },
          "metadata": {},
          "execution_count": 28
        }
      ],
      "source": [
        "X_train.shape, X_test.shape, y_train.shape, y_test.shape"
      ]
    },
    {
      "cell_type": "markdown",
      "metadata": {
        "id": "NUdmu0uljC8k"
      },
      "source": [
        "## Building Model "
      ]
    },
    {
      "cell_type": "code",
      "execution_count": null,
      "metadata": {
        "id": "HnIJ_QjAne8c"
      },
      "outputs": [],
      "source": [
        "from tensorflow.keras.layers import Dense, LSTM, Bidirectional, Embedding, Concatenate, Dropout\n",
        "from tensorflow.keras import Input, Model"
      ]
    },
    {
      "cell_type": "code",
      "execution_count": null,
      "metadata": {
        "id": "Gj-uwdTM-hyd"
      },
      "outputs": [],
      "source": [
        "### Import attention layer"
      ]
    },
    {
      "cell_type": "code",
      "execution_count": null,
      "metadata": {
        "colab": {
          "base_uri": "https://localhost:8080/"
        },
        "id": "DkWXORwX_Jlq",
        "outputId": "a69b0b08-5b12-42a0-f785-7111a5097fab"
      },
      "outputs": [
        {
          "output_type": "stream",
          "name": "stdout",
          "text": [
            "--2022-01-21 17:05:32--  https://raw.githubusercontent.com/TejasGadi/Neural-Machine-Translation/master/Attention_model/BahdanauAttention.py\n",
            "Resolving raw.githubusercontent.com (raw.githubusercontent.com)... 185.199.111.133, 185.199.108.133, 185.199.110.133, ...\n",
            "Connecting to raw.githubusercontent.com (raw.githubusercontent.com)|185.199.111.133|:443... connected.\n",
            "HTTP request sent, awaiting response... 200 OK\n",
            "Length: 5425 (5.3K) [text/plain]\n",
            "Saving to: ‘BahdanauAttention.py’\n",
            "\n",
            "BahdanauAttention.p 100%[===================>]   5.30K  --.-KB/s    in 0s      \n",
            "\n",
            "2022-01-21 17:05:32 (64.8 MB/s) - ‘BahdanauAttention.py’ saved [5425/5425]\n",
            "\n"
          ]
        }
      ],
      "source": [
        "!wget https://raw.githubusercontent.com/TejasGadi/Neural-Machine-Translation/master/Attention_model/BahdanauAttention.py"
      ]
    },
    {
      "cell_type": "code",
      "execution_count": null,
      "metadata": {
        "id": "Xg9ETYgSGTgQ"
      },
      "outputs": [],
      "source": [
        "from keras.layers import Activation, dot"
      ]
    },
    {
      "cell_type": "code",
      "execution_count": null,
      "metadata": {
        "id": "Flya0FO3mhsw"
      },
      "outputs": [],
      "source": [
        "# Encoder \n",
        "\n",
        "encoder_inputs = Input(shape=(max_eng_len,)) \n",
        "enc_emb = Embedding(ENG_VOCAB_SIZE, 1024)(encoder_inputs)\n",
        "\n",
        "# Bidirectional lstm layer\n",
        "enc_lstm1 = Bidirectional(LSTM(256,return_sequences=True,return_state=True))\n",
        "encoder_outputs1, forw_state_h, forw_state_c, back_state_h, back_state_c = enc_lstm1(enc_emb)\n",
        "\n",
        "final_enc_h = Concatenate()([forw_state_h,back_state_h])\n",
        "final_enc_c = Concatenate()([forw_state_c,back_state_c])\n",
        "\n",
        "encoder_states =[final_enc_h, final_enc_c]\n",
        "\n",
        "# Set up the decoder. \n",
        "decoder_inputs = Input(shape=(None,)) \n",
        "dec_emb_layer = Embedding(MAR_VOCAB_SIZE, 1024) \n",
        "dec_emb = dec_emb_layer(decoder_inputs)\n",
        "#LSTM using encoder_states as initial state\n",
        "decoder_lstm = LSTM(512, return_sequences=True, return_state=True) \n",
        "decoder_outputs, _, _ = decoder_lstm(dec_emb, initial_state=encoder_states)\n",
        "\n",
        "#Attention Layer\n",
        "# attention_layer = AttentionLayer()\n",
        "# attention_result, attention_weights = attention_layer([encoder_outputs1, decoder_outputs])\n",
        "\n",
        "attention = dot([decoder_outputs,encoder_outputs1], axes=[2, 2])\n",
        "# The softmax function  gives the probability distribution which can used as attention weights\n",
        "attention = Activation('sigmoid', name='attention')(attention)\n",
        "# pre attention weight and encoder as a dot product to give context\n",
        "context = dot([attention, encoder_outputs1], axes=[2,1])\n",
        "\n",
        "# Concat attention output and decoder LSTM output \n",
        "decoder_concat_input = Concatenate(axis=-1, name='concat_layer')([decoder_outputs, context])\n",
        "\n",
        "#Dense layer\n",
        "decoder_dense = Dense(MAR_VOCAB_SIZE, activation='softmax')\n",
        "decoder_outputs = decoder_dense(decoder_concat_input)\n",
        "\n",
        "\n",
        "# Define the model\n",
        "model = Model([encoder_inputs, decoder_inputs], decoder_outputs)\n"
      ]
    },
    {
      "cell_type": "code",
      "execution_count": null,
      "metadata": {
        "colab": {
          "base_uri": "https://localhost:8080/"
        },
        "id": "wK2_qfSjnVJe",
        "outputId": "32773e2d-d267-4b0b-8752-8dae52a6efea"
      },
      "outputs": [
        {
          "output_type": "stream",
          "name": "stdout",
          "text": [
            "Model: \"model\"\n",
            "__________________________________________________________________________________________________\n",
            " Layer (type)                   Output Shape         Param #     Connected to                     \n",
            "==================================================================================================\n",
            " input_1 (InputLayer)           [(None, 118)]        0           []                               \n",
            "                                                                                                  \n",
            " embedding (Embedding)          (None, 118, 1024)    35291136    ['input_1[0][0]']                \n",
            "                                                                                                  \n",
            " input_2 (InputLayer)           [(None, None)]       0           []                               \n",
            "                                                                                                  \n",
            " bidirectional (Bidirectional)  [(None, 118, 512),   2623488     ['embedding[0][0]']              \n",
            "                                 (None, 256),                                                     \n",
            "                                 (None, 256),                                                     \n",
            "                                 (None, 256),                                                     \n",
            "                                 (None, 256)]                                                     \n",
            "                                                                                                  \n",
            " embedding_1 (Embedding)        (None, None, 1024)   31816704    ['input_2[0][0]']                \n",
            "                                                                                                  \n",
            " concatenate (Concatenate)      (None, 512)          0           ['bidirectional[0][1]',          \n",
            "                                                                  'bidirectional[0][3]']          \n",
            "                                                                                                  \n",
            " concatenate_1 (Concatenate)    (None, 512)          0           ['bidirectional[0][2]',          \n",
            "                                                                  'bidirectional[0][4]']          \n",
            "                                                                                                  \n",
            " lstm_1 (LSTM)                  [(None, None, 512),  3147776     ['embedding_1[0][0]',            \n",
            "                                 (None, 512),                     'concatenate[0][0]',            \n",
            "                                 (None, 512)]                     'concatenate_1[0][0]']          \n",
            "                                                                                                  \n",
            " dot (Dot)                      (None, None, 118)    0           ['lstm_1[0][0]',                 \n",
            "                                                                  'bidirectional[0][0]']          \n",
            "                                                                                                  \n",
            " attention (Activation)         (None, None, 118)    0           ['dot[0][0]']                    \n",
            "                                                                                                  \n",
            " dot_1 (Dot)                    (None, None, 512)    0           ['attention[0][0]',              \n",
            "                                                                  'bidirectional[0][0]']          \n",
            "                                                                                                  \n",
            " concat_layer (Concatenate)     (None, None, 1024)   0           ['lstm_1[0][0]',                 \n",
            "                                                                  'dot_1[0][0]']                  \n",
            "                                                                                                  \n",
            " dense (Dense)                  (None, None, 31071)  31847775    ['concat_layer[0][0]']           \n",
            "                                                                                                  \n",
            "==================================================================================================\n",
            "Total params: 104,726,879\n",
            "Trainable params: 104,726,879\n",
            "Non-trainable params: 0\n",
            "__________________________________________________________________________________________________\n"
          ]
        }
      ],
      "source": [
        "model.summary()"
      ]
    },
    {
      "cell_type": "code",
      "execution_count": null,
      "metadata": {
        "colab": {
          "base_uri": "https://localhost:8080/",
          "height": 798
        },
        "id": "8-ts_tTWs04b",
        "outputId": "d25fb175-d94a-4eb9-c9b9-ec103eaf4950"
      },
      "outputs": [
        {
          "output_type": "execute_result",
          "data": {
            "image/png": "[encoded data removed]",
            "text/plain": [
              "<IPython.core.display.Image object>"
            ]
          },
          "metadata": {},
          "execution_count": 35
        }
      ],
      "source": [
        "from tensorflow.keras.utils import plot_model\n",
        "plot_model(model,show_shapes=True)"
      ]
    },
    {
      "cell_type": "markdown",
      "metadata": {
        "id": "iTkHzMn_-hyf"
      },
      "source": [
        "***IMP note :- if loss categorical crossentropy used then shapes incompatible error will occcur beause we have to use sparse_categorical_crossentropy when we have all different labels categorical is for mutliclass labels***"
      ]
    },
    {
      "cell_type": "code",
      "execution_count": null,
      "metadata": {
        "id": "lGEydF3rqkkO"
      },
      "outputs": [],
      "source": [
        "# Compile model\n",
        "model.compile(optimizer='adam', loss='sparse_categorical_crossentropy', metrics=['accuracy'])"
      ]
    },
    {
      "cell_type": "markdown",
      "metadata": {
        "id": "34CSl099-hyf"
      },
      "source": [
        "### Define callbacks"
      ]
    },
    {
      "cell_type": "code",
      "execution_count": null,
      "metadata": {
        "id": "omcPVJNgDQo9"
      },
      "outputs": [],
      "source": [
        "from tensorflow.keras.callbacks import ModelCheckpoint, EarlyStopping\n",
        "\n",
        "checkpoint = ModelCheckpoint(\"/content/model1/\", monitor='val_accuracy')\n",
        "\n",
        "early_stopping = EarlyStopping(monitor='val_accuracy', patience=5)\n",
        "\n",
        "callbacks_list = [checkpoint, early_stopping]"
      ]
    },
    {
      "cell_type": "code",
      "execution_count": null,
      "metadata": {
        "id": "AwuDY-JDDNCO"
      },
      "outputs": [],
      "source": [
        "# Training\n",
        "encoder_input_data = X_train\n",
        "# To make same as target data skip last number which is just padding\n",
        "decoder_input_data = y_train[:,:-1]\n",
        "# Decoder target data has to be one step ahead so we are taking from 1 as told in keras docs\n",
        "decoder_target_data =  y_train[:,1:]\n",
        "\n",
        "# Testing\n",
        "encoder_input_test = X_test\n",
        "decoder_input_test = y_test[:,:-1]\n",
        "decoder_target_test=  y_test[:,1:]"
      ]
    },
    {
      "cell_type": "code",
      "execution_count": null,
      "metadata": {
        "id": "IAYaw0ZADncg"
      },
      "outputs": [],
      "source": [
        "EPOCHS= 20 #@param {type:'slider',min:10,max:100, step:10 }"
      ]
    },
    {
      "cell_type": "code",
      "execution_count": null,
      "metadata": {
        "colab": {
          "base_uri": "https://localhost:8080/"
        },
        "id": "0WdaK3nl0qKl",
        "outputId": "29e430a9-d371-4d3c-eb7c-0939e7d77da5"
      },
      "outputs": [
        {
          "output_type": "stream",
          "name": "stdout",
          "text": [
            "Epoch 1/4\n",
            "280/280 [==============================] - 192s 687ms/step - loss: 0.1915 - accuracy: 0.9607 - val_loss: 0.7136 - val_accuracy: 0.9339\n",
            "Epoch 2/4\n",
            "280/280 [==============================] - 191s 682ms/step - loss: 0.1346 - accuracy: 0.9705 - val_loss: 0.7177 - val_accuracy: 0.9354\n",
            "Epoch 3/4\n",
            "280/280 [==============================] - 191s 682ms/step - loss: 0.0896 - accuracy: 0.9792 - val_loss: 0.7323 - val_accuracy: 0.9356\n",
            "Epoch 4/4\n",
            "280/280 [==============================] - 192s 685ms/step - loss: 0.0572 - accuracy: 0.9862 - val_loss: 0.7494 - val_accuracy: 0.9363\n"
          ]
        }
      ],
      "source": [
        "history = model.fit([encoder_input_data, decoder_input_data],decoder_target_data, \n",
        "                    epochs=4, \n",
        "                    batch_size=32,\n",
        "                    validation_data = ([encoder_input_test, decoder_input_test],decoder_target_test)\n",
        "                    )"
      ]
    },
    {
      "cell_type": "markdown",
      "metadata": {
        "id": "Et0MrNnA-hyh"
      },
      "source": [
        "#### Saving weights is very important if ypu dont after colab session ends you might have to retrain model "
      ]
    },
    {
      "cell_type": "code",
      "execution_count": null,
      "metadata": {
        "id": "rqAok2O-_djF"
      },
      "outputs": [],
      "source": [
        "model.save(\"/content/model2.h5\")"
      ]
    },
    {
      "cell_type": "markdown",
      "metadata": {
        "id": "O1BqA8MrTJAz"
      },
      "source": [
        "#### After saving weight you can restart colab session without GPU \n",
        "Create model and\n",
        "load model"
      ]
    },
    {
      "cell_type": "code",
      "execution_count": null,
      "metadata": {
        "id": "BzijkGt8_L17"
      },
      "outputs": [],
      "source": [
        "# model2=tensorflow.keras.models.load_model(\"/content/saved_model/model1.h5\")"
      ]
    },
    {
      "cell_type": "markdown",
      "metadata": {
        "id": "PUk6Nlub-hyi"
      },
      "source": [
        "## Inference model\n",
        "* For prediction we have to do this was because we trained encoder on input and decoder on target differently so we'll have to do same for prediction"
      ]
    },
    {
      "cell_type": "code",
      "execution_count": null,
      "metadata": {
        "id": "WpsF3j1FRNS3"
      },
      "outputs": [],
      "source": [
        "encoder_model = Model(encoder_inputs, outputs = [encoder_outputs1, final_enc_h, final_enc_c])\n",
        "\n",
        "decoder_state_h = Input(shape=(512,))\n",
        "decoder_state_c = Input(shape=(512,))\n",
        "decoder_hidden_state_input = Input(shape=(118,512))\n",
        "\n",
        "dec_states = [decoder_state_h, decoder_state_c]\n",
        "\n",
        "dec_emb2 = dec_emb_layer(decoder_inputs)\n",
        "\n",
        "decoder_outputs2, state_h2, state_c2 = decoder_lstm(dec_emb2, initial_state=dec_states)\n",
        "\n",
        "dec_states2=[state_h2,state_c2]\n",
        "# Attention inference\n",
        "# attention_result_inf, attention_weights_inf = attention_layer([decoder_outputs2,decoder_hidden_state_input])\n",
        "\n",
        "attention = dot([decoder_outputs2,decoder_hidden_state_input], axes=[2, 2])\n",
        "# The softmax function  gives the probability distribution which can used as attention weights\n",
        "attention = Activation('sigmoid', name='attention')(attention)\n",
        "# pre attention weight and encoder as a dot product to give context\n",
        "attention_result_inf = dot([attention,decoder_hidden_state_input], axes=[2,1])\n",
        "\n",
        "decoder_concat_input_inf = Concatenate(axis=-1, name='concat_layer')([decoder_outputs2, attention_result_inf])\n",
        "\n",
        "# dec_states2= [state_h2, state_c2]\n",
        "\n",
        "decoder_outputs2 = decoder_dense(decoder_concat_input_inf)\n",
        "\n",
        "decoder_model= Model(\n",
        "                    [decoder_inputs] + [decoder_hidden_state_input, decoder_state_h, decoder_state_c],\n",
        "                     [decoder_outputs2]+ dec_states2)"
      ]
    },
    {
      "cell_type": "markdown",
      "metadata": {
        "id": "HUyG99Jy-hyi"
      },
      "source": [
        "### Model will predict numbers and word at time so we'll have to convert them to words of language "
      ]
    },
    {
      "cell_type": "code",
      "execution_count": null,
      "metadata": {
        "id": "ufg6mvC4Uq18"
      },
      "outputs": [],
      "source": [
        "def get_predicted_sentence(input_seq):\n",
        "    # Encode the input as state vectors.\n",
        "    enc_output, enc_h, enc_c = encoder_model.predict(input_seq)\n",
        "  \n",
        "    # Generate empty target sequence of length 1.\n",
        "    target_seq = np.zeros((1,1))\n",
        "    \n",
        "    # Populate the first character of target sequence with the start character.\n",
        "    target_seq[0, 0] = mar_word_index['sos']\n",
        "    \n",
        "    # Sampling loop for a batch of sequences\n",
        "    # (to simplify, here we assume a batch of size 1).\n",
        "    stop_condition = False\n",
        "    decoded_sentence = ''\n",
        "    \n",
        "    while not stop_condition:\n",
        "        output_tokens, h, c = decoder_model.predict([target_seq] + [enc_output, enc_h, enc_c ])\n",
        "        # Sample a token\n",
        "        sampled_token_index = np.argmax(output_tokens[0, -1, :])\n",
        "        if sampled_token_index == 0:\n",
        "          break\n",
        "        else:\n",
        "            # convert max index number to marathi word\n",
        "            sampled_char = mar_index_word[sampled_token_index]\n",
        "\n",
        "        if (sampled_char!='end'):\n",
        "            # aapend it ti decoded sent\n",
        "            decoded_sentence += ' '+sampled_char\n",
        "        \n",
        "        # Exit condition: either hit max length or find stop token.\n",
        "        if (sampled_char == 'eos' or len(decoded_sentence.split()) >= 36):\n",
        "            stop_condition = True\n",
        "        \n",
        "        # Update the target sequence (of length 1).\n",
        "        target_seq = np.zeros((1,1))\n",
        "        target_seq[0, 0] = sampled_token_index\n",
        "        \n",
        "        # Update states\n",
        "        enc_h, enc_c = h, c\n",
        "    \n",
        "    return decoded_sentence"
      ]
    },
    {
      "cell_type": "markdown",
      "metadata": {
        "id": "mRp6YilMB2bD"
      },
      "source": [
        "## Converting x and y back to words-sentences"
      ]
    },
    {
      "cell_type": "code",
      "execution_count": null,
      "metadata": {
        "id": "yClNK6ZWWabv"
      },
      "outputs": [],
      "source": [
        "def get_marathi_sentence(input_sequence):\n",
        "    sentence =''\n",
        "    for i in input_sequence:\n",
        "      if i!=0 :\n",
        "        sentence =sentence +mar_index_word[i]+' '\n",
        "    return sentence \n",
        "\n",
        "def get_english_sentence(input_sequence):\n",
        "    sentence =''\n",
        "    for i in input_sequence:\n",
        "      if i!=0:\n",
        "        sentence =sentence +eng_index_word[i]+' '\n",
        "    return sentence     "
      ]
    },
    {
      "cell_type": "markdown",
      "metadata": {
        "id": "oMYdZ3VMUWDE"
      },
      "source": [
        "# Model results"
      ]
    },
    {
      "cell_type": "code",
      "execution_count": null,
      "metadata": {
        "colab": {
          "base_uri": "https://localhost:8080/"
        },
        "id": "sF-zWG3TDC1F",
        "outputId": "bb168f99-6648-4a93-c0d3-049cd5ba43ab"
      },
      "outputs": [
        {
          "output_type": "execute_result",
          "data": {
            "text/plain": [
              "994"
            ]
          },
          "metadata": {},
          "execution_count": 46
        }
      ],
      "source": [
        "len(X_test)"
      ]
    },
    {
      "cell_type": "markdown",
      "metadata": {
        "id": "Lc7C3IDG-hyk"
      },
      "source": [
        "#### Using simple loop we will take random 15 numbers from x_test and get results\n"
      ]
    },
    {
      "cell_type": "code",
      "execution_count": null,
      "metadata": {
        "colab": {
          "base_uri": "https://localhost:8080/"
        },
        "id": "luOMusMsWfKk",
        "outputId": "5b6c57e2-215d-4f7b-ece5-3681e8f5b5d9"
      },
      "outputs": [
        {
          "output_type": "stream",
          "name": "stdout",
          "text": [
            "English Sentence: ram tyachi samjut kadhun tyalahi ushti bore khayala sangatat \n",
            "Actual Marathi Sentence: राम त्याची समजूत काढून त्यालाही उष्टी बोरे खायला सांगतात \n",
            "Predicted Marathi Translation:  त्याची त्याची लसूण आणि त्याची लसूण त्रास दूर करते\n",
            "----------------------------------------------------------------------------------------\n",
            "English Sentence: sadanand chendavankar \n",
            "Actual Marathi Sentence: सदानंद चेंदवणकर \n",
            "Predicted Marathi Translation:  श्री\n",
            "----------------------------------------------------------------------------------------\n",
            "English Sentence: ya 22 pratignya manavata va bauddha dharmat mahatvachya ahet \n",
            "Actual Marathi Sentence: या २२ प्रतिज्ञा मानवता व बौद्ध धर्मात महत्त्वाच्या आहेत \n",
            "Predicted Marathi Translation:  या महत्वाच्या व जैन व जैन यांवर पृथ्वी व आठ आठ आहेत\n",
            "----------------------------------------------------------------------------------------\n",
            "English Sentence: joshi sevanivrutta hotil \n",
            "Actual Marathi Sentence: जोशी सेवानिवृत्त होतील \n",
            "Predicted Marathi Translation:  जोशी जोशी\n",
            "----------------------------------------------------------------------------------------\n",
            "English Sentence: sadhya madisar sadya reshim suti resim suti mishrit polystar suti mishrit ityadi kapad prakaranmadhye uplabdha ahe \n",
            "Actual Marathi Sentence: सध्या मडिसार साड्या रेशीम सूती रेशीम सुती मिश्रित पॉलिस्टर सुती मिश्रित इत्यादी कापड प्रकारांमध्ये उपलब्ध आहे \n",
            "Predicted Marathi Translation:  सध्या सध्या सध्या सध्या सध्या इत्यादी सध्या ८व्या दृश्यप्रतीची दृश्यप्रतीची फेस इत्यादी विशिष्ट विशिष्ट विशिष्ट समावेश आहे\n",
            "----------------------------------------------------------------------------------------\n",
            "English Sentence: vistrut arthane sthlakruti sarvasadharantaha sthanik tapshilashi sambandhit ahe jyat keval aramach navhe tar vanaspati va manavi nirmit vaishishtye tasech sthanik itihaas ani sanskruti dekhil samavistha ahe \n",
            "Actual Marathi Sentence: विस्तृत अर्थाने स्थलाकृति सर्वसाधारणतः स्थानिक तपशीलाशी संबंधित आहे ज्यात केवळ आरामच नव्हे तर वनस्पति व मानवी निर्मित वैशिष्ट्ये तसेच स्थानिक इतिहास आणि संस्कृती देखील समाविष्ट आहे \n",
            "Predicted Marathi Translation:  चित्रफलक हा संबंधित संबंधित संबंधित संबंधित आहे तर काही माहिती माहिती संदर्भ आणि त्यांच्या संस्कृती उद्योग आहे आणि त्याच्या संस्कृती संस्कृती आहे\n",
            "----------------------------------------------------------------------------------------\n",
            "English Sentence: hi phula disayala barich mothi astat \n",
            "Actual Marathi Sentence: ही फुल दिसायला बरीच मोठी असतात \n",
            "Predicted Marathi Translation:  ही दृष्टी दृष्टी असतात असतात\n",
            "----------------------------------------------------------------------------------------\n",
            "English Sentence: khula rangamancha \n",
            "Actual Marathi Sentence: खुला रंगमंच \n",
            "Predicted Marathi Translation:  श्री\n",
            "----------------------------------------------------------------------------------------\n",
            "English Sentence: karvir kashi \n",
            "Actual Marathi Sentence: करवीर काशी \n",
            "Predicted Marathi Translation:  डेटन जिहाद फोर्स\n",
            "----------------------------------------------------------------------------------------\n",
            "English Sentence: dakshta \n",
            "Actual Marathi Sentence: दक्षता \n",
            "Predicted Marathi Translation:  डेटन जिहाद\n",
            "----------------------------------------------------------------------------------------\n",
            "English Sentence: udaharnartha tyane tyana manane matana tyo aplya manana gelay kivva 'payana langda' he vakya 'payana langad' ase bolle jate \n",
            "Actual Marathi Sentence: उदाहरणार्थ त्याने त्यानं मनाने मतानं त्यो आपल्या मनानं गेलाय किंवा ‘पायनं लंगडा’ हे वाक्य ‘पायनं लंगडं’ असे बोलले जाते \n",
            "Predicted Marathi Translation:  त्याने आपल्या कामात मुसलमान आपल्या कोणीही किंवा अप्रतिम समजले जाते हे समजले जाते हे समजले जाते असे समजले जाते\n",
            "----------------------------------------------------------------------------------------\n",
            "English Sentence: sadhya madisar sadya reshim suti resim suti mishrit polystar suti mishrit ityadi kapad prakaranmadhye uplabdha ahe \n",
            "Actual Marathi Sentence: सध्या मडिसार साड्या रेशीम सूती रेशीम सुती मिश्रित पॉलिस्टर सुती मिश्रित इत्यादी कापड प्रकारांमध्ये उपलब्ध आहे \n",
            "Predicted Marathi Translation:  सध्या सध्या सध्या सध्या सध्या इत्यादी सध्या ८व्या दृश्यप्रतीची दृश्यप्रतीची फेस इत्यादी विशिष्ट विशिष्ट विशिष्ट समावेश आहे\n",
            "----------------------------------------------------------------------------------------\n",
            "English Sentence: ardhasvarapasun sadhe svar ani shevati sanyukt svar asa kram ahe \n",
            "Actual Marathi Sentence: अर्धस्वरापासून साधे स्वर आणि शेवटी संयुक्त स्वर असा क्रम आहे \n",
            "Predicted Marathi Translation:  भीष्माने भव्य योग आणि ब्राह्मण योग असा असा आहे\n",
            "----------------------------------------------------------------------------------------\n",
            "English Sentence: te maze priya mitra \n",
            "Actual Marathi Sentence: ते माझे प्रिय मित्र \n",
            "Predicted Marathi Translation:  ते ते धर्मनिष्ठ\n",
            "----------------------------------------------------------------------------------------\n",
            "English Sentence: open va 2009 sali french open hya don grand slam tenis spardha jinkalya aahet \n",
            "Actual Marathi Sentence: ओपन व २००९ साली फ्रेंच ओपन ह्या दोन ग्रँड स्लॅम टेनिसा स्पर्धा जिंकल्या आहेत \n",
            "Predicted Marathi Translation:  १६५९ साली व दोन दोन पुस्तकांनी ने दोन दोन दोन दोन समाविष्ट आहेत\n",
            "----------------------------------------------------------------------------------------\n"
          ]
        }
      ],
      "source": [
        "for i in np.random.randint(10, 800, size=15):\n",
        "  print(\"English Sentence:\",get_english_sentence(X_test[i]))\n",
        "  print(\"Actual Marathi Sentence:\",get_marathi_sentence(y_test[i])[4:-4])\n",
        "  # Before passing input it has to be reshape as following\n",
        "  print(\"Predicted Marathi Translation:\",get_predicted_sentence(X_test[i].reshape(1,118))[:-4])\n",
        "  print(\"----------------------------------------------------------------------------------------\")"
      ]
    },
    {
      "cell_type": "code",
      "source": [],
      "metadata": {
        "id": "JJvjABlbsXSF"
      },
      "execution_count": null,
      "outputs": []
    }
  ],
  "metadata": {
    "accelerator": "GPU",
    "colab": {
      "collapsed_sections": [],
      "provenance": []
    },
    "kernelspec": {
      "display_name": "Python 3",
      "language": "python",
      "name": "python3"
    },
    "language_info": {
      "codemirror_mode": {
        "name": "ipython",
        "version": 3
      },
      "file_extension": ".py",
      "mimetype": "text/x-python",
      "name": "python",
      "nbconvert_exporter": "python",
      "pygments_lexer": "ipython3",
      "version": "3.8.10"
    }
  },
  "nbformat": 4,
  "nbformat_minor": 0
}